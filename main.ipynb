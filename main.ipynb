{
 "cells": [
  {
   "cell_type": "markdown",
   "id": "f7395356",
   "metadata": {},
   "source": [
    "### Importing Dependencies"
   ]
  },
  {
   "cell_type": "code",
   "execution_count": null,
   "id": "8da8a750",
   "metadata": {},
   "outputs": [],
   "source": [
    "import numpy as np\n",
    "import matplotlib.pyplot as plt\n",
    "from random import uniform as rnd"
   ]
  },
  {
   "cell_type": "markdown",
   "id": "b7610481",
   "metadata": {},
   "source": [
    "### Setting the Problem and Algorithm Parameters"
   ]
  },
  {
   "cell_type": "code",
   "execution_count": null,
   "id": "58a29ebe",
   "metadata": {},
   "outputs": [],
   "source": [
    "P      = 20\n",
    "WIDTH  = 5\n",
    "HEIGHT = 5\n",
    "W      = 0.8\n",
    "C1     = 0.1 \n",
    "C2     = 0.1\n",
    "\n",
    "EPOCH  = 100"
   ]
  },
  {
   "cell_type": "markdown",
   "id": "672b6358",
   "metadata": {},
   "source": [
    "### Init Population function"
   ]
  },
  {
   "cell_type": "code",
   "execution_count": null,
   "id": "8a07c144",
   "metadata": {},
   "outputs": [],
   "source": [
    "def init_folk(p, w, h):\n",
    "    X = [[round(rnd(0,w),3),round(rnd(0,h),3)] for i in range(p)]\n",
    "    V = [[round(rnd(0,0.1),3),round(rnd(0,0.1),3)] for i in range(p)]\n",
    "    return X, V"
   ]
  },
  {
   "cell_type": "markdown",
   "id": "cb240509",
   "metadata": {},
   "source": [
    "### Update Positions Function"
   ]
  },
  {
   "cell_type": "code",
   "execution_count": null,
   "id": "ecc1521a",
   "metadata": {},
   "outputs": [],
   "source": [
    "def update_positions(X,Vnew):\n",
    "    X = [[round(i[0][0]+i[1][0],3),round(i[0][1]+i[1][1],3)]for i in zip(X,Vnew)]\n",
    "    return X"
   ]
  },
  {
   "cell_type": "markdown",
   "id": "c2381879",
   "metadata": {},
   "source": [
    "### Update Velocities Function"
   ]
  },
  {
   "cell_type": "code",
   "execution_count": null,
   "id": "73f613bd",
   "metadata": {},
   "outputs": [],
   "source": [
    "def update_velocities(X , V, p_best, g_best):\n",
    "    r1 = round(rnd(0,1),3)\n",
    "    r2 = round(rnd(0,1),3)\n",
    "    for i in range(P):\n",
    "        new_vx = (W*V[i][0]) + (C1*r1*(p_best[i][0]-X[i][0])) + (C2*r2*(g_best[0]-X[i][0]))\n",
    "        new_vy = (W*V[i][1]) + (C1*r1*(p_best[i][1]-X[i][1])) + (C2*r2*(g_best[1]-X[i][1]))\n",
    "        V[i][0]=new_vx\n",
    "        V[i][1]=new_vy\n",
    "    return V"
   ]
  },
  {
   "cell_type": "markdown",
   "id": "b0721377",
   "metadata": {},
   "source": [
    "### Fitness Function"
   ]
  },
  {
   "cell_type": "code",
   "execution_count": null,
   "id": "06561b4f",
   "metadata": {},
   "outputs": [],
   "source": [
    "def fitness(x, y):\n",
    "    val = (x-3.14)**2 + (y-2.72)**2 + np.sin(3*x+1.41) + np.sin(4*y-1.73)\n",
    "    return round(val,3)"
   ]
  },
  {
   "cell_type": "code",
   "execution_count": null,
   "id": "2633c3de",
   "metadata": {},
   "outputs": [],
   "source": [
    "def bool_min(lst1,lst2,p1,p2):\n",
    "    lst = []\n",
    "    for i in range(len(lst1)):\n",
    "        condition = True if lst1[i]<lst2[i] else False\n",
    "        if condition:\n",
    "            lst.append(p1[i])\n",
    "        else:\n",
    "            lst.append(p2[i])\n",
    "    return lst"
   ]
  },
  {
   "cell_type": "markdown",
   "id": "fc209d3f",
   "metadata": {},
   "source": [
    "### Main"
   ]
  },
  {
   "cell_type": "code",
   "execution_count": null,
   "id": "6350e67e",
   "metadata": {},
   "outputs": [],
   "source": [
    "if __name__ == \"__main__\":\n",
    "    X, V = init_folk(P, WIDTH, HEIGHT)\n",
    "    p_best = X.copy()\n",
    "    pbest_obj = [fitness(i[0], i[1]) for i in X]\n",
    "    g_best = p_best[pbest_obj.index(min(pbest_obj))]\n",
    "    gbest_obj = min(pbest_obj)\n",
    "    EPOCH = 20\n",
    "    while EPOCH:\n",
    "        V = update_velocities(X , V, p_best, g_best)\n",
    "        X = update_positions(X,V)\n",
    "        obj = [fitness(i[0], i[1]) for i in X]\n",
    "        p_best = bool_min(pbest_obj, obj, p_best, X)\n",
    "        f = [fitness(i[0], i[1]) for i in p_best]\n",
    "        g_best = p_best[f.index(min(f))]\n",
    "        gbest_obj = min(f)\n",
    "        EPOCH-=1\n",
    "        \n",
    "        img = np.full((5,5,3), 255, np.uint8)\n",
    "        plt.imshow(img)\n",
    "        plt.scatter([i[0] for i in X],[5-i[1] for i in X])\n",
    "        plt.axis([0,5,0,5])\n",
    "        plt.show()"
   ]
  },
  {
   "cell_type": "code",
   "execution_count": null,
   "id": "8f1cac8a",
   "metadata": {},
   "outputs": [],
   "source": [
    "print()"
   ]
  }
 ],
 "metadata": {
  "kernelspec": {
   "display_name": "Python 3 (ipykernel)",
   "language": "python",
   "name": "python3"
  },
  "language_info": {
   "codemirror_mode": {
    "name": "ipython",
    "version": 3
   },
   "file_extension": ".py",
   "mimetype": "text/x-python",
   "name": "python",
   "nbconvert_exporter": "python",
   "pygments_lexer": "ipython3",
   "version": "3.10.7"
  }
 },
 "nbformat": 4,
 "nbformat_minor": 5
}
